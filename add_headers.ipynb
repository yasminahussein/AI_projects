{
 "cells": [
  {
   "cell_type": "code",
   "execution_count": 3,
   "metadata": {
    "ExecuteTime": {
     "end_time": "2022-07-29T23:16:47.687008Z",
     "start_time": "2022-07-29T23:16:47.453955Z"
    },
    "scrolled": true
   },
   "outputs": [
    {
     "name": "stdout",
     "output_type": "stream",
     "text": [
      "     1  1.1  1.2  1.3  0  0.1  1.4  1.5  ...   no  no.1  'United States' no.2  6  '18 and more'    Self   NO\n",
      "0    1    1    0    1  0    0    0    1  ...   no   yes           Brazil   no  5  '18 and more'    Self   NO\n",
      "1    1    1    0    1  1    0    1    1  ...  yes   yes            Spain   no  8  '18 and more'  Parent  YES\n",
      "2    1    1    0    1  0    0    1    1  ...   no   yes  'United States'   no  6  '18 and more'    Self   NO\n",
      "3    1    0    0    0  0    0    0    1  ...   no    no            Egypt   no  2  '18 and more'       ?   NO\n",
      "4    1    1    1    1  1    0    1    1  ...  yes    no  'United States'   no  9  '18 and more'    Self  YES\n",
      "..  ..  ...  ...  ... ..  ...  ...  ...  ...  ...   ...              ...  ... ..            ...     ...  ...\n",
      "698  0    1    0    1  1    0    1    1  ...   no    no           Russia   no  7  '18 and more'    Self  YES\n",
      "699  1    0    0    0  0    0    0    1  ...   no    no           Mexico   no  3  '18 and more'  Parent   NO\n",
      "700  1    0    1    1  1    0    1    1  ...   no    no           Russia   no  7  '18 and more'       ?  YES\n",
      "701  1    0    0    1  1    0    1    0  ...   no    no         Pakistan   no  6  '18 and more'    Self   NO\n",
      "702  1    0    1    1  1    0    1    1  ...   no    no           Cyprus   no  8  '18 and more'    Self  YES\n",
      "\n",
      "[703 rows x 21 columns]\n",
      "\n",
      "Modified file:\n",
      "     A1_Score  A2_Score  A3_Score  A4_Score  A5_Score  ...  used_app_before  result      age_desc   relation  Class/ASD\n",
      "0           1         1         0         1         0  ...               no       5  '18 and more'      Self         NO\n",
      "1           1         1         0         1         1  ...               no       8  '18 and more'    Parent        YES\n",
      "2           1         1         0         1         0  ...               no       6  '18 and more'      Self         NO\n",
      "3           1         0         0         0         0  ...               no       2  '18 and more'         ?         NO\n",
      "4           1         1         1         1         1  ...               no       9  '18 and more'      Self        YES\n",
      "..        ...       ...       ...       ...       ...  ...              ...     ...            ...       ...        ...\n",
      "698         0         1         0         1         1  ...               no       7  '18 and more'      Self        YES\n",
      "699         1         0         0         0         0  ...               no       3  '18 and more'    Parent         NO\n",
      "700         1         0         1         1         1  ...               no       7  '18 and more'         ?        YES\n",
      "701         1         0         0         1         1  ...               no       6  '18 and more'      Self         NO\n",
      "702         1         0         1         1         1  ...               no       8  '18 and more'      Self        YES\n",
      "\n",
      "[703 rows x 21 columns]\n"
     ]
    }
   ],
   "source": [
    "# importing python package\n",
    "import pandas as pd\n",
    "  \n",
    "# read contents of csv file\n",
    "file = pd.read_csv(\"Autism-Adult-Data.csv\")\n",
    "print(file)\n",
    "  \n",
    "# adding header\n",
    "headerList = ['A1_Score', 'A2_Score', 'A3_Score','A4_Score','A5_Score','A6_Score','A7_Score','A8_Score','A9_Score','A10_Score','age','gender','ethnicity','jundice','austim','contry_of_res','used_app_before','result','age_desc ','relation','Class/ASD']\n",
    "  \n",
    "# converting data frame to csv\n",
    "file.to_csv(\"Autism-Adult-Data.csv\", header=headerList, index=False)\n",
    "  \n",
    "# display modified csv file\n",
    "file2 = pd.read_csv(\"Autism-Adult-Data.csv\")\n",
    "print('\\nModified file:')\n",
    "print(file2)"
   ]
  },
  {
   "cell_type": "code",
   "execution_count": 23,
   "metadata": {
    "ExecuteTime": {
     "end_time": "2022-07-29T23:59:52.538855Z",
     "start_time": "2022-07-29T23:59:52.483136Z"
    }
   },
   "outputs": [
    {
     "name": "stdout",
     "output_type": "stream",
     "text": [
      "A1_Score unique ==> [0 1]\n",
      "A2_Score unique ==> [0 1]\n",
      "A3_Score unique ==> [0 1]\n",
      "A4_Score unique ==> [0 1]\n",
      "A5_Score unique ==> [0 1]\n",
      "A6_Score unique ==> [0 1]\n",
      "A7_Score unique ==> [0 1]\n",
      "A8_Score unique ==> [0 1]\n",
      "A9_Score unique ==> [0 1]\n",
      "A10_Score unique ==> [0 1]\n",
      "age unique ==> ['17' '18' '19' '20' '21' '22' '23' '24' '25' '26' '27' '28' '29' '30'\n",
      " '31' '32' '33' '34' '35' '36' '37' '38' '383' '39' '40' '41' '42' '43'\n",
      " '44' '45' '46' '47' '48' '49' '50' '51' '52' '53' '54' '55' '56' '58'\n",
      " '59' '60' '61' '64' '?']\n",
      "gender unique ==> ['f' 'm']\n",
      "ethnicity unique ==> [\"'Middle Eastern '\" \"'South Asian'\" '?' 'Asian' 'Black' 'Hispanic'\n",
      " 'Latino' 'Others' 'Pasifika' 'Turkish' 'White-European' 'others']\n",
      "jundice unique ==> ['no' 'yes']\n",
      "austim unique ==> ['no' 'yes']\n",
      "contry_of_res unique ==> [\"'Costa Rica'\" \"'Czech Republic'\" \"'Hong Kong'\" \"'New Zealand'\"\n",
      " \"'Saudi Arabia'\" \"'Sierra Leone'\" \"'South Africa'\" \"'Sri Lanka'\"\n",
      " \"'United Arab Emirates'\" \"'United Kingdom'\" \"'United States'\"\n",
      " \"'Viet Nam'\" 'Afghanistan' 'AmericanSamoa' 'Angola' 'Argentina' 'Armenia'\n",
      " 'Aruba' 'Australia' 'Austria' 'Azerbaijan' 'Bahamas' 'Bangladesh'\n",
      " 'Belgium' 'Bolivia' 'Brazil' 'Burundi' 'Canada' 'Chile' 'China' 'Cyprus'\n",
      " 'Ecuador' 'Egypt' 'Ethiopia' 'Finland' 'France' 'Germany' 'Iceland'\n",
      " 'India' 'Indonesia' 'Iran' 'Iraq' 'Ireland' 'Italy' 'Japan' 'Jordan'\n",
      " 'Kazakhstan' 'Lebanon' 'Malaysia' 'Mexico' 'Nepal' 'Netherlands'\n",
      " 'Nicaragua' 'Niger' 'Oman' 'Pakistan' 'Philippines' 'Portugal' 'Romania'\n",
      " 'Russia' 'Serbia' 'Spain' 'Sweden' 'Tonga' 'Turkey' 'Ukraine' 'Uruguay']\n",
      "used_app_before unique ==> ['no' 'yes']\n",
      "result unique ==> [ 0  1  2  3  4  5  6  7  8  9 10]\n",
      "age_desc  unique ==> [\"'18 and more'\"]\n",
      "relation unique ==> [\"'Health care professional'\" '?' 'Others' 'Parent' 'Relative' 'Self']\n",
      "Class/ASD unique ==> ['NO' 'YES']\n"
     ]
    }
   ],
   "source": [
    "# using numpy.unique\n",
    "import numpy as np\n",
    "headers=np.array(file2.columns)  \n",
    "  \n",
    "\n",
    "\n",
    "for header in headers:\n",
    "    df=file2[header]\n",
    "    x = np.array(df)\n",
    "    result= np.unique(x)\n",
    "    print(header,end = ' unique ==> ')\n",
    "    print( result)\n",
    "   # unique(df,header)\n"
   ]
  }
 ],
 "metadata": {
  "kernelspec": {
   "display_name": "Python 3",
   "language": "python",
   "name": "python3"
  },
  "language_info": {
   "codemirror_mode": {
    "name": "ipython",
    "version": 3
   },
   "file_extension": ".py",
   "mimetype": "text/x-python",
   "name": "python",
   "nbconvert_exporter": "python",
   "pygments_lexer": "ipython3",
   "version": "3.8.5"
  },
  "toc": {
   "base_numbering": 1,
   "nav_menu": {},
   "number_sections": true,
   "sideBar": true,
   "skip_h1_title": false,
   "title_cell": "Table of Contents",
   "title_sidebar": "Contents",
   "toc_cell": false,
   "toc_position": {},
   "toc_section_display": true,
   "toc_window_display": false
  },
  "varInspector": {
   "cols": {
    "lenName": 16,
    "lenType": 16,
    "lenVar": 40
   },
   "kernels_config": {
    "python": {
     "delete_cmd_postfix": "",
     "delete_cmd_prefix": "del ",
     "library": "var_list.py",
     "varRefreshCmd": "print(var_dic_list())"
    },
    "r": {
     "delete_cmd_postfix": ") ",
     "delete_cmd_prefix": "rm(",
     "library": "var_list.r",
     "varRefreshCmd": "cat(var_dic_list()) "
    }
   },
   "types_to_exclude": [
    "module",
    "function",
    "builtin_function_or_method",
    "instance",
    "_Feature"
   ],
   "window_display": false
  }
 },
 "nbformat": 4,
 "nbformat_minor": 4
}
